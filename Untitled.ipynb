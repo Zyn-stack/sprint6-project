{
 "cells": [
  {
   "cell_type": "code",
   "execution_count": 1,
   "id": "a9f6efd0",
   "metadata": {},
   "outputs": [],
   "source": [
    "import pandas as pd"
   ]
  },
  {
   "cell_type": "markdown",
   "id": "2eb294b7",
   "metadata": {},
   "source": [
    "The code below is going to import our excel sheet with all the cars and their listings to the code"
   ]
  },
  {
   "cell_type": "code",
   "execution_count": 3,
   "id": "d6f2b16b",
   "metadata": {
    "scrolled": false
   },
   "outputs": [
    {
     "data": {
      "text/html": [
       "<div>\n",
       "<style scoped>\n",
       "    .dataframe tbody tr th:only-of-type {\n",
       "        vertical-align: middle;\n",
       "    }\n",
       "\n",
       "    .dataframe tbody tr th {\n",
       "        vertical-align: top;\n",
       "    }\n",
       "\n",
       "    .dataframe thead th {\n",
       "        text-align: right;\n",
       "    }\n",
       "</style>\n",
       "<table border=\"1\" class=\"dataframe\">\n",
       "  <thead>\n",
       "    <tr style=\"text-align: right;\">\n",
       "      <th></th>\n",
       "      <th>Unnamed: 0</th>\n",
       "      <th>manufacturer_name</th>\n",
       "      <th>model_name</th>\n",
       "      <th>transmission</th>\n",
       "      <th>color</th>\n",
       "      <th>odometer_value</th>\n",
       "      <th>year_produced</th>\n",
       "      <th>engine_type</th>\n",
       "      <th>engine_capacity</th>\n",
       "      <th>body_type</th>\n",
       "      <th>has_warranty</th>\n",
       "      <th>state</th>\n",
       "      <th>price_usd</th>\n",
       "      <th>number_of_photos</th>\n",
       "    </tr>\n",
       "  </thead>\n",
       "  <tbody>\n",
       "    <tr>\n",
       "      <th>0</th>\n",
       "      <td>0</td>\n",
       "      <td>Subaru</td>\n",
       "      <td>Outback</td>\n",
       "      <td>automatic</td>\n",
       "      <td>silver</td>\n",
       "      <td>190000</td>\n",
       "      <td>2010</td>\n",
       "      <td>gasoline</td>\n",
       "      <td>2.5</td>\n",
       "      <td>universal</td>\n",
       "      <td>False</td>\n",
       "      <td>owned</td>\n",
       "      <td>10900.00</td>\n",
       "      <td>9</td>\n",
       "    </tr>\n",
       "    <tr>\n",
       "      <th>1</th>\n",
       "      <td>1</td>\n",
       "      <td>Subaru</td>\n",
       "      <td>Outback</td>\n",
       "      <td>automatic</td>\n",
       "      <td>blue</td>\n",
       "      <td>290000</td>\n",
       "      <td>2002</td>\n",
       "      <td>gasoline</td>\n",
       "      <td>3.0</td>\n",
       "      <td>universal</td>\n",
       "      <td>False</td>\n",
       "      <td>owned</td>\n",
       "      <td>5000.00</td>\n",
       "      <td>12</td>\n",
       "    </tr>\n",
       "    <tr>\n",
       "      <th>2</th>\n",
       "      <td>2</td>\n",
       "      <td>Subaru</td>\n",
       "      <td>Forester</td>\n",
       "      <td>automatic</td>\n",
       "      <td>red</td>\n",
       "      <td>402000</td>\n",
       "      <td>2001</td>\n",
       "      <td>gasoline</td>\n",
       "      <td>2.5</td>\n",
       "      <td>suv</td>\n",
       "      <td>False</td>\n",
       "      <td>owned</td>\n",
       "      <td>2800.00</td>\n",
       "      <td>4</td>\n",
       "    </tr>\n",
       "    <tr>\n",
       "      <th>3</th>\n",
       "      <td>3</td>\n",
       "      <td>Subaru</td>\n",
       "      <td>Impreza</td>\n",
       "      <td>mechanical</td>\n",
       "      <td>blue</td>\n",
       "      <td>10000</td>\n",
       "      <td>1999</td>\n",
       "      <td>gasoline</td>\n",
       "      <td>3.0</td>\n",
       "      <td>sedan</td>\n",
       "      <td>False</td>\n",
       "      <td>owned</td>\n",
       "      <td>9999.00</td>\n",
       "      <td>9</td>\n",
       "    </tr>\n",
       "    <tr>\n",
       "      <th>4</th>\n",
       "      <td>4</td>\n",
       "      <td>Subaru</td>\n",
       "      <td>Legacy</td>\n",
       "      <td>automatic</td>\n",
       "      <td>black</td>\n",
       "      <td>280000</td>\n",
       "      <td>2001</td>\n",
       "      <td>gasoline</td>\n",
       "      <td>2.5</td>\n",
       "      <td>universal</td>\n",
       "      <td>False</td>\n",
       "      <td>owned</td>\n",
       "      <td>2134.11</td>\n",
       "      <td>14</td>\n",
       "    </tr>\n",
       "  </tbody>\n",
       "</table>\n",
       "</div>"
      ],
      "text/plain": [
       "   Unnamed: 0 manufacturer_name model_name transmission   color  \\\n",
       "0           0            Subaru    Outback    automatic  silver   \n",
       "1           1            Subaru    Outback    automatic    blue   \n",
       "2           2            Subaru   Forester    automatic     red   \n",
       "3           3            Subaru    Impreza   mechanical    blue   \n",
       "4           4            Subaru     Legacy    automatic   black   \n",
       "\n",
       "   odometer_value  year_produced engine_type  engine_capacity  body_type  \\\n",
       "0          190000           2010    gasoline              2.5  universal   \n",
       "1          290000           2002    gasoline              3.0  universal   \n",
       "2          402000           2001    gasoline              2.5        suv   \n",
       "3           10000           1999    gasoline              3.0      sedan   \n",
       "4          280000           2001    gasoline              2.5  universal   \n",
       "\n",
       "   has_warranty  state  price_usd  number_of_photos  \n",
       "0         False  owned   10900.00                 9  \n",
       "1         False  owned    5000.00                12  \n",
       "2         False  owned    2800.00                 4  \n",
       "3         False  owned    9999.00                 9  \n",
       "4         False  owned    2134.11                14  "
      ]
     },
     "execution_count": 3,
     "metadata": {},
     "output_type": "execute_result"
    }
   ],
   "source": [
    "df = pd.read_csv('cars_workshop.csv')\n",
    "df.head()"
   ]
  },
  {
   "cell_type": "markdown",
   "id": "81155303",
   "metadata": {},
   "source": [
    "This code will remove the first column \"Unnamed:0\" to clean the information up."
   ]
  },
  {
   "cell_type": "code",
   "execution_count": 4,
   "id": "b52067b6",
   "metadata": {},
   "outputs": [],
   "source": [
    "df = df.drop(df.columns[0],axis=1)"
   ]
  },
  {
   "cell_type": "code",
   "execution_count": 5,
   "id": "17d09134",
   "metadata": {},
   "outputs": [
    {
     "data": {
      "text/html": [
       "<div>\n",
       "<style scoped>\n",
       "    .dataframe tbody tr th:only-of-type {\n",
       "        vertical-align: middle;\n",
       "    }\n",
       "\n",
       "    .dataframe tbody tr th {\n",
       "        vertical-align: top;\n",
       "    }\n",
       "\n",
       "    .dataframe thead th {\n",
       "        text-align: right;\n",
       "    }\n",
       "</style>\n",
       "<table border=\"1\" class=\"dataframe\">\n",
       "  <thead>\n",
       "    <tr style=\"text-align: right;\">\n",
       "      <th></th>\n",
       "      <th>manufacturer_name</th>\n",
       "      <th>model_name</th>\n",
       "      <th>transmission</th>\n",
       "      <th>color</th>\n",
       "      <th>odometer_value</th>\n",
       "      <th>year_produced</th>\n",
       "      <th>engine_type</th>\n",
       "      <th>engine_capacity</th>\n",
       "      <th>body_type</th>\n",
       "      <th>has_warranty</th>\n",
       "      <th>state</th>\n",
       "      <th>price_usd</th>\n",
       "      <th>number_of_photos</th>\n",
       "    </tr>\n",
       "  </thead>\n",
       "  <tbody>\n",
       "    <tr>\n",
       "      <th>0</th>\n",
       "      <td>Subaru</td>\n",
       "      <td>Outback</td>\n",
       "      <td>automatic</td>\n",
       "      <td>silver</td>\n",
       "      <td>190000</td>\n",
       "      <td>2010</td>\n",
       "      <td>gasoline</td>\n",
       "      <td>2.5</td>\n",
       "      <td>universal</td>\n",
       "      <td>False</td>\n",
       "      <td>owned</td>\n",
       "      <td>10900.00</td>\n",
       "      <td>9</td>\n",
       "    </tr>\n",
       "    <tr>\n",
       "      <th>1</th>\n",
       "      <td>Subaru</td>\n",
       "      <td>Outback</td>\n",
       "      <td>automatic</td>\n",
       "      <td>blue</td>\n",
       "      <td>290000</td>\n",
       "      <td>2002</td>\n",
       "      <td>gasoline</td>\n",
       "      <td>3.0</td>\n",
       "      <td>universal</td>\n",
       "      <td>False</td>\n",
       "      <td>owned</td>\n",
       "      <td>5000.00</td>\n",
       "      <td>12</td>\n",
       "    </tr>\n",
       "    <tr>\n",
       "      <th>2</th>\n",
       "      <td>Subaru</td>\n",
       "      <td>Forester</td>\n",
       "      <td>automatic</td>\n",
       "      <td>red</td>\n",
       "      <td>402000</td>\n",
       "      <td>2001</td>\n",
       "      <td>gasoline</td>\n",
       "      <td>2.5</td>\n",
       "      <td>suv</td>\n",
       "      <td>False</td>\n",
       "      <td>owned</td>\n",
       "      <td>2800.00</td>\n",
       "      <td>4</td>\n",
       "    </tr>\n",
       "    <tr>\n",
       "      <th>3</th>\n",
       "      <td>Subaru</td>\n",
       "      <td>Impreza</td>\n",
       "      <td>mechanical</td>\n",
       "      <td>blue</td>\n",
       "      <td>10000</td>\n",
       "      <td>1999</td>\n",
       "      <td>gasoline</td>\n",
       "      <td>3.0</td>\n",
       "      <td>sedan</td>\n",
       "      <td>False</td>\n",
       "      <td>owned</td>\n",
       "      <td>9999.00</td>\n",
       "      <td>9</td>\n",
       "    </tr>\n",
       "    <tr>\n",
       "      <th>4</th>\n",
       "      <td>Subaru</td>\n",
       "      <td>Legacy</td>\n",
       "      <td>automatic</td>\n",
       "      <td>black</td>\n",
       "      <td>280000</td>\n",
       "      <td>2001</td>\n",
       "      <td>gasoline</td>\n",
       "      <td>2.5</td>\n",
       "      <td>universal</td>\n",
       "      <td>False</td>\n",
       "      <td>owned</td>\n",
       "      <td>2134.11</td>\n",
       "      <td>14</td>\n",
       "    </tr>\n",
       "  </tbody>\n",
       "</table>\n",
       "</div>"
      ],
      "text/plain": [
       "  manufacturer_name model_name transmission   color  odometer_value  \\\n",
       "0            Subaru    Outback    automatic  silver          190000   \n",
       "1            Subaru    Outback    automatic    blue          290000   \n",
       "2            Subaru   Forester    automatic     red          402000   \n",
       "3            Subaru    Impreza   mechanical    blue           10000   \n",
       "4            Subaru     Legacy    automatic   black          280000   \n",
       "\n",
       "   year_produced engine_type  engine_capacity  body_type  has_warranty  state  \\\n",
       "0           2010    gasoline              2.5  universal         False  owned   \n",
       "1           2002    gasoline              3.0  universal         False  owned   \n",
       "2           2001    gasoline              2.5        suv         False  owned   \n",
       "3           1999    gasoline              3.0      sedan         False  owned   \n",
       "4           2001    gasoline              2.5  universal         False  owned   \n",
       "\n",
       "   price_usd  number_of_photos  \n",
       "0   10900.00                 9  \n",
       "1    5000.00                12  \n",
       "2    2800.00                 4  \n",
       "3    9999.00                 9  \n",
       "4    2134.11                14  "
      ]
     },
     "execution_count": 5,
     "metadata": {},
     "output_type": "execute_result"
    }
   ],
   "source": [
    "df.head()"
   ]
  },
  {
   "cell_type": "markdown",
   "id": "c16d767d",
   "metadata": {},
   "source": [
    "The following code will give us only the unique names and no repeats."
   ]
  },
  {
   "cell_type": "code",
   "execution_count": 8,
   "id": "be76431b",
   "metadata": {},
   "outputs": [],
   "source": [
    "manufacturers = df['manufacturer_name'].unique()"
   ]
  },
  {
   "cell_type": "code",
   "execution_count": 9,
   "id": "eb0f29db",
   "metadata": {},
   "outputs": [
    {
     "data": {
      "text/plain": [
       "array(['Subaru', 'Dodge', 'Kia', 'Opel', 'Alfa Romeo', 'Acura', 'Dacia',\n",
       "       'Lexus', 'Mitsubishi', 'Lancia', 'Citroen', 'Mini', 'Jaguar',\n",
       "       'Porsche', 'SsangYong', 'Daewoo', 'Geely', 'Fiat', 'Ford',\n",
       "       'Renault', 'Seat', 'Rover', 'Volkswagen', 'Lifan', 'Jeep',\n",
       "       'Cadillac', 'Audi', 'Toyota', 'Volvo', 'Chevrolet', 'Great Wall',\n",
       "       'Buick', 'Pontiac', 'Lincoln', 'Hyundai', 'Nissan', 'Suzuki',\n",
       "       'BMW', 'Mazda', 'Land Rover', 'Iveco', 'Skoda', 'Saab', 'Infiniti',\n",
       "       'Chery', 'Honda', 'Mercedes-Benz', 'Peugeot', 'Chrysler'],\n",
       "      dtype=object)"
      ]
     },
     "execution_count": 9,
     "metadata": {},
     "output_type": "execute_result"
    }
   ],
   "source": [
    "manufacturers"
   ]
  },
  {
   "cell_type": "code",
   "execution_count": 10,
   "id": "286fe076",
   "metadata": {},
   "outputs": [],
   "source": [
    "min_year = df['year_produced'].min()"
   ]
  },
  {
   "cell_type": "code",
   "execution_count": 11,
   "id": "b405f7db",
   "metadata": {},
   "outputs": [],
   "source": [
    "max_year = df [\"year_produced\"].max()"
   ]
  },
  {
   "cell_type": "code",
   "execution_count": 12,
   "id": "e4299333",
   "metadata": {},
   "outputs": [
    {
     "data": {
      "text/plain": [
       "1960"
      ]
     },
     "execution_count": 12,
     "metadata": {},
     "output_type": "execute_result"
    }
   ],
   "source": [
    "min_year"
   ]
  },
  {
   "cell_type": "code",
   "execution_count": 13,
   "id": "d7c6997f",
   "metadata": {},
   "outputs": [
    {
     "data": {
      "text/plain": [
       "2019"
      ]
     },
     "execution_count": 13,
     "metadata": {},
     "output_type": "execute_result"
    }
   ],
   "source": [
    "max_year"
   ]
  },
  {
   "cell_type": "code",
   "execution_count": 15,
   "id": "4b0f5751",
   "metadata": {},
   "outputs": [],
   "source": [
    "(min_year,max_year) = (df['year_produced'].min(),df[\"year_produced\"].max())"
   ]
  },
  {
   "cell_type": "code",
   "execution_count": 16,
   "id": "7d7cc87b",
   "metadata": {},
   "outputs": [
    {
     "data": {
      "text/plain": [
       "1960"
      ]
     },
     "execution_count": 16,
     "metadata": {},
     "output_type": "execute_result"
    }
   ],
   "source": [
    "min_year"
   ]
  },
  {
   "cell_type": "markdown",
   "id": "4fe403b0",
   "metadata": {},
   "source": [
    "Since python starts their list from 0 we need to add 1 to make it run more smoothly for the webpage."
   ]
  },
  {
   "cell_type": "code",
   "execution_count": 20,
   "id": "ac11e46c",
   "metadata": {},
   "outputs": [
    {
     "data": {
      "text/plain": [
       "[1960,\n",
       " 1961,\n",
       " 1962,\n",
       " 1963,\n",
       " 1964,\n",
       " 1965,\n",
       " 1966,\n",
       " 1967,\n",
       " 1968,\n",
       " 1969,\n",
       " 1970,\n",
       " 1971,\n",
       " 1972,\n",
       " 1973,\n",
       " 1974,\n",
       " 1975,\n",
       " 1976,\n",
       " 1977,\n",
       " 1978,\n",
       " 1979,\n",
       " 1980,\n",
       " 1981,\n",
       " 1982,\n",
       " 1983,\n",
       " 1984,\n",
       " 1985,\n",
       " 1986,\n",
       " 1987,\n",
       " 1988,\n",
       " 1989,\n",
       " 1990,\n",
       " 1991,\n",
       " 1992,\n",
       " 1993,\n",
       " 1994,\n",
       " 1995,\n",
       " 1996,\n",
       " 1997,\n",
       " 1998,\n",
       " 1999,\n",
       " 2000,\n",
       " 2001,\n",
       " 2002,\n",
       " 2003,\n",
       " 2004,\n",
       " 2005,\n",
       " 2006,\n",
       " 2007,\n",
       " 2008,\n",
       " 2009,\n",
       " 2010,\n",
       " 2011,\n",
       " 2012,\n",
       " 2013,\n",
       " 2014,\n",
       " 2015,\n",
       " 2016,\n",
       " 2017,\n",
       " 2018,\n",
       " 2019]"
      ]
     },
     "execution_count": 20,
     "metadata": {},
     "output_type": "execute_result"
    }
   ],
   "source": [
    "list(range(min_year,max_year+1))"
   ]
  },
  {
   "cell_type": "markdown",
   "id": "dfe28580",
   "metadata": {},
   "source": [
    "The following code will give us 4 categories for how old the car is. We will be able to determin if its less than 5 years, 5-10, 10-20, and above 20."
   ]
  },
  {
   "cell_type": "code",
   "execution_count": 21,
   "id": "d442e9dc",
   "metadata": {},
   "outputs": [],
   "source": [
    "def age_category(x):\n",
    "    if x<5: return '<5'\n",
    "    elif x>=5 and x<10: return '5-10'\n",
    "    elif x>=10 and x<20: return '10-20'\n",
    "    else: return '>20'"
   ]
  },
  {
   "cell_type": "markdown",
   "id": "01d610bd",
   "metadata": {},
   "source": [
    "This will taker the current year (2023) and subtract the manufacturing year to find the date."
   ]
  },
  {
   "cell_type": "code",
   "execution_count": 22,
   "id": "19f3a020",
   "metadata": {},
   "outputs": [],
   "source": [
    "df['age']=2023-df['year_produced']"
   ]
  },
  {
   "cell_type": "code",
   "execution_count": 23,
   "id": "2a3c92f8",
   "metadata": {},
   "outputs": [],
   "source": [
    "df['age_category']= df['age'].apply(age_category)"
   ]
  },
  {
   "cell_type": "code",
   "execution_count": 24,
   "id": "886e4599",
   "metadata": {},
   "outputs": [
    {
     "data": {
      "text/html": [
       "<div>\n",
       "<style scoped>\n",
       "    .dataframe tbody tr th:only-of-type {\n",
       "        vertical-align: middle;\n",
       "    }\n",
       "\n",
       "    .dataframe tbody tr th {\n",
       "        vertical-align: top;\n",
       "    }\n",
       "\n",
       "    .dataframe thead th {\n",
       "        text-align: right;\n",
       "    }\n",
       "</style>\n",
       "<table border=\"1\" class=\"dataframe\">\n",
       "  <thead>\n",
       "    <tr style=\"text-align: right;\">\n",
       "      <th></th>\n",
       "      <th>manufacturer_name</th>\n",
       "      <th>model_name</th>\n",
       "      <th>transmission</th>\n",
       "      <th>color</th>\n",
       "      <th>odometer_value</th>\n",
       "      <th>year_produced</th>\n",
       "      <th>engine_type</th>\n",
       "      <th>engine_capacity</th>\n",
       "      <th>body_type</th>\n",
       "      <th>has_warranty</th>\n",
       "      <th>state</th>\n",
       "      <th>price_usd</th>\n",
       "      <th>number_of_photos</th>\n",
       "      <th>age</th>\n",
       "      <th>age_category</th>\n",
       "    </tr>\n",
       "  </thead>\n",
       "  <tbody>\n",
       "    <tr>\n",
       "      <th>0</th>\n",
       "      <td>Subaru</td>\n",
       "      <td>Outback</td>\n",
       "      <td>automatic</td>\n",
       "      <td>silver</td>\n",
       "      <td>190000</td>\n",
       "      <td>2010</td>\n",
       "      <td>gasoline</td>\n",
       "      <td>2.5</td>\n",
       "      <td>universal</td>\n",
       "      <td>False</td>\n",
       "      <td>owned</td>\n",
       "      <td>10900.00</td>\n",
       "      <td>9</td>\n",
       "      <td>13</td>\n",
       "      <td>10-20</td>\n",
       "    </tr>\n",
       "    <tr>\n",
       "      <th>1</th>\n",
       "      <td>Subaru</td>\n",
       "      <td>Outback</td>\n",
       "      <td>automatic</td>\n",
       "      <td>blue</td>\n",
       "      <td>290000</td>\n",
       "      <td>2002</td>\n",
       "      <td>gasoline</td>\n",
       "      <td>3.0</td>\n",
       "      <td>universal</td>\n",
       "      <td>False</td>\n",
       "      <td>owned</td>\n",
       "      <td>5000.00</td>\n",
       "      <td>12</td>\n",
       "      <td>21</td>\n",
       "      <td>&gt;20</td>\n",
       "    </tr>\n",
       "    <tr>\n",
       "      <th>2</th>\n",
       "      <td>Subaru</td>\n",
       "      <td>Forester</td>\n",
       "      <td>automatic</td>\n",
       "      <td>red</td>\n",
       "      <td>402000</td>\n",
       "      <td>2001</td>\n",
       "      <td>gasoline</td>\n",
       "      <td>2.5</td>\n",
       "      <td>suv</td>\n",
       "      <td>False</td>\n",
       "      <td>owned</td>\n",
       "      <td>2800.00</td>\n",
       "      <td>4</td>\n",
       "      <td>22</td>\n",
       "      <td>&gt;20</td>\n",
       "    </tr>\n",
       "    <tr>\n",
       "      <th>3</th>\n",
       "      <td>Subaru</td>\n",
       "      <td>Impreza</td>\n",
       "      <td>mechanical</td>\n",
       "      <td>blue</td>\n",
       "      <td>10000</td>\n",
       "      <td>1999</td>\n",
       "      <td>gasoline</td>\n",
       "      <td>3.0</td>\n",
       "      <td>sedan</td>\n",
       "      <td>False</td>\n",
       "      <td>owned</td>\n",
       "      <td>9999.00</td>\n",
       "      <td>9</td>\n",
       "      <td>24</td>\n",
       "      <td>&gt;20</td>\n",
       "    </tr>\n",
       "    <tr>\n",
       "      <th>4</th>\n",
       "      <td>Subaru</td>\n",
       "      <td>Legacy</td>\n",
       "      <td>automatic</td>\n",
       "      <td>black</td>\n",
       "      <td>280000</td>\n",
       "      <td>2001</td>\n",
       "      <td>gasoline</td>\n",
       "      <td>2.5</td>\n",
       "      <td>universal</td>\n",
       "      <td>False</td>\n",
       "      <td>owned</td>\n",
       "      <td>2134.11</td>\n",
       "      <td>14</td>\n",
       "      <td>22</td>\n",
       "      <td>&gt;20</td>\n",
       "    </tr>\n",
       "  </tbody>\n",
       "</table>\n",
       "</div>"
      ],
      "text/plain": [
       "  manufacturer_name model_name transmission   color  odometer_value  \\\n",
       "0            Subaru    Outback    automatic  silver          190000   \n",
       "1            Subaru    Outback    automatic    blue          290000   \n",
       "2            Subaru   Forester    automatic     red          402000   \n",
       "3            Subaru    Impreza   mechanical    blue           10000   \n",
       "4            Subaru     Legacy    automatic   black          280000   \n",
       "\n",
       "   year_produced engine_type  engine_capacity  body_type  has_warranty  state  \\\n",
       "0           2010    gasoline              2.5  universal         False  owned   \n",
       "1           2002    gasoline              3.0  universal         False  owned   \n",
       "2           2001    gasoline              2.5        suv         False  owned   \n",
       "3           1999    gasoline              3.0      sedan         False  owned   \n",
       "4           2001    gasoline              2.5  universal         False  owned   \n",
       "\n",
       "   price_usd  number_of_photos  age age_category  \n",
       "0   10900.00                 9   13        10-20  \n",
       "1    5000.00                12   21          >20  \n",
       "2    2800.00                 4   22          >20  \n",
       "3    9999.00                 9   24          >20  \n",
       "4    2134.11                14   22          >20  "
      ]
     },
     "execution_count": 24,
     "metadata": {},
     "output_type": "execute_result"
    }
   ],
   "source": [
    "df.head()"
   ]
  },
  {
   "cell_type": "code",
   "execution_count": null,
   "id": "6dd1c268",
   "metadata": {},
   "outputs": [],
   "source": []
  }
 ],
 "metadata": {
  "kernelspec": {
   "display_name": "Python 3 (ipykernel)",
   "language": "python",
   "name": "python3"
  },
  "language_info": {
   "codemirror_mode": {
    "name": "ipython",
    "version": 3
   },
   "file_extension": ".py",
   "mimetype": "text/x-python",
   "name": "python",
   "nbconvert_exporter": "python",
   "pygments_lexer": "ipython3",
   "version": "3.11.5"
  }
 },
 "nbformat": 4,
 "nbformat_minor": 5
}
